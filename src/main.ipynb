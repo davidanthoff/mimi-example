{
 "cells": [
  {
   "cell_type": "markdown",
   "metadata": {},
   "source": [
    "# Temperature in RICE and FUND"
   ]
  },
  {
   "cell_type": "markdown",
   "metadata": {},
   "source": [
    "## Load packages"
   ]
  },
  {
   "cell_type": "code",
   "execution_count": 1,
   "metadata": {},
   "outputs": [],
   "source": [
    "using Mimi, DataFrames, VegaLite, Query"
   ]
  },
  {
   "cell_type": "markdown",
   "metadata": {},
   "source": [
    "## Load models"
   ]
  },
  {
   "cell_type": "code",
   "execution_count": 2,
   "metadata": {},
   "outputs": [],
   "source": [
    "using MimiRICE2010, MimiFUND"
   ]
  },
  {
   "cell_type": "markdown",
   "metadata": {},
   "source": [
    "## Run FUND and RICE"
   ]
  },
  {
   "cell_type": "code",
   "execution_count": 3,
   "metadata": {},
   "outputs": [],
   "source": [
    "m_fund = MimiFUND.getfund()\n",
    "run(m_fund)"
   ]
  },
  {
   "cell_type": "code",
   "execution_count": 4,
   "metadata": {},
   "outputs": [],
   "source": [
    "m_rice = MimiRICE2010.getrice()\n",
    "run(m_rice)"
   ]
  },
  {
   "cell_type": "markdown",
   "metadata": {},
   "source": [
    "## Extract data from models and reshape for plotting"
   ]
  },
  {
   "cell_type": "code",
   "execution_count": 5,
   "metadata": {},
   "outputs": [],
   "source": [
    "df_fund = getdataframe(m_fund, :climatedynamics, :temp) |> @rename(:time=>:year, :temp=>:temperature) |> @mutate(model=\"FUND\") |> DataFrame\n",
    "df_rice = getdataframe(m_rice, :climatedynamics, :TATM) |> @rename(:time=>:year, :TATM=>:temperature) |> @mutate(model=\"RICE\") |> DataFrame\n",
    "df = vcat(df_fund, df_rice);"
   ]
  },
  {
   "cell_type": "code",
   "execution_count": 6,
   "metadata": {},
   "outputs": [
    {
     "data": {
      "application/vnd.vegalite.v2+json": {
       "data": {
        "values": [
         {
          "model": "FUND",
          "temperature": 0.610967074138926,
          "year": 2000
         },
         {
          "model": "FUND",
          "temperature": 0.6233143205493502,
          "year": 2001
         },
         {
          "model": "FUND",
          "temperature": 0.6358635224614222,
          "year": 2002
         },
         {
          "model": "FUND",
          "temperature": 0.648618481837006,
          "year": 2003
         },
         {
          "model": "FUND",
          "temperature": 0.6615883312194372,
          "year": 2004
         },
         {
          "model": "FUND",
          "temperature": 0.6748692739072023,
          "year": 2005
         },
         {
          "model": "FUND",
          "temperature": 0.6886268014673141,
          "year": 2006
         },
         {
          "model": "FUND",
          "temperature": 0.7029340615259811,
          "year": 2007
         },
         {
          "model": "FUND",
          "temperature": 0.7177887725753266,
          "year": 2008
         },
         {
          "model": "FUND",
          "temperature": 0.7331867620951575,
          "year": 2009
         },
         {
          "model": "FUND",
          "temperature": 0.7490586505066515,
          "year": 2010
         },
         {
          "model": "FUND",
          "temperature": 0.765284834553005,
          "year": 2011
         },
         {
          "model": "FUND",
          "temperature": 0.7818156445773201,
          "year": 2012
         },
         {
          "model": "FUND",
          "temperature": 0.7986608399992982,
          "year": 2013
         },
         {
          "model": "FUND",
          "temperature": 0.8158289590671062,
          "year": 2014
         },
         {
          "model": "FUND",
          "temperature": 0.8333297562857421,
          "year": 2015
         },
         {
          "model": "FUND",
          "temperature": 0.8511685759934732,
          "year": 2016
         },
         {
          "model": "FUND",
          "temperature": 0.8693505114813437,
          "year": 2017
         },
         {
          "model": "FUND",
          "temperature": 0.8878800002637,
          "year": 2018
         },
         {
          "model": "FUND",
          "temperature": 0.9067614411448488,
          "year": 2019
         },
         {
          "model": "FUND",
          "temperature": 0.926016354295343,
          "year": 2020
         },
         {
          "model": "FUND",
          "temperature": 0.9456827288702244,
          "year": 2021
         },
         {
          "model": "FUND",
          "temperature": 0.9657814496503231,
          "year": 2022
         },
         {
          "model": "FUND",
          "temperature": 0.9863131506693547,
          "year": 2023
         },
         {
          "model": "FUND",
          "temperature": 1.0072788356845246,
          "year": 2024
         },
         {
          "model": "FUND",
          "temperature": 1.0286788617228486,
          "year": 2025
         },
         {
          "model": "FUND",
          "temperature": 1.050513888503641,
          "year": 2026
         },
         {
          "model": "FUND",
          "temperature": 1.0727824308861373,
          "year": 2027
         },
         {
          "model": "FUND",
          "temperature": 1.0954817969177912,
          "year": 2028
         },
         {
          "model": "FUND",
          "temperature": 1.1186095100244955,
          "year": 2029
         },
         {
          "model": "FUND",
          "temperature": 1.1421901649865103,
          "year": 2030
         },
         {
          "model": "FUND",
          "temperature": 1.1662835028796263,
          "year": 2031
         },
         {
          "model": "FUND",
          "temperature": 1.190915218367738,
          "year": 2032
         },
         {
          "model": "FUND",
          "temperature": 1.2160807205001865,
          "year": 2033
         },
         {
          "model": "FUND",
          "temperature": 1.2417751978537497,
          "year": 2034
         },
         {
          "model": "FUND",
          "temperature": 1.2679907739943017,
          "year": 2035
         },
         {
          "model": "FUND",
          "temperature": 1.2947265454032373,
          "year": 2036
         },
         {
          "model": "FUND",
          "temperature": 1.3219775807112273,
          "year": 2037
         },
         {
          "model": "FUND",
          "temperature": 1.3497396377311224,
          "year": 2038
         },
         {
          "model": "FUND",
          "temperature": 1.3780082235435471,
          "year": 2039
         },
         {
          "model": "FUND",
          "temperature": 1.406767342601891,
          "year": 2040
         },
         {
          "model": "FUND",
          "temperature": 1.4359990882582692,
          "year": 2041
         },
         {
          "model": "FUND",
          "temperature": 1.465692598388298,
          "year": 2042
         },
         {
          "model": "FUND",
          "temperature": 1.4958444486866762,
          "year": 2043
         },
         {
          "model": "FUND",
          "temperature": 1.5264522237162088,
          "year": 2044
         },
         {
          "model": "FUND",
          "temperature": 1.5575117016612943,
          "year": 2045
         },
         {
          "model": "FUND",
          "temperature": 1.5890206531527804,
          "year": 2046
         },
         {
          "model": "FUND",
          "temperature": 1.620971181335436,
          "year": 2047
         },
         {
          "model": "FUND",
          "temperature": 1.6533568365058526,
          "year": 2048
         },
         {
          "model": "FUND",
          "temperature": 1.6861716540461567,
          "year": 2049
         },
         {
          "model": "FUND",
          "temperature": 1.7193832770350876,
          "year": 2050
         },
         {
          "model": "FUND",
          "temperature": 1.7529469968950602,
          "year": 2051
         },
         {
          "model": "FUND",
          "temperature": 1.7868420411416663,
          "year": 2052
         },
         {
          "model": "FUND",
          "temperature": 1.821070637217023,
          "year": 2053
         },
         {
          "model": "FUND",
          "temperature": 1.8556349155071905,
          "year": 2054
         },
         {
          "model": "FUND",
          "temperature": 1.8905369094730344,
          "year": 2055
         },
         {
          "model": "FUND",
          "temperature": 1.9257751735390507,
          "year": 2056
         },
         {
          "model": "FUND",
          "temperature": 1.9613455533651136,
          "year": 2057
         },
         {
          "model": "FUND",
          "temperature": 1.9972443006891274,
          "year": 2058
         },
         {
          "model": "FUND",
          "temperature": 2.0334690484944913,
          "year": 2059
         },
         {
          "model": "FUND",
          "temperature": 2.0700089609253425,
          "year": 2060
         },
         {
          "model": "FUND",
          "temperature": 2.1068518769546456,
          "year": 2061
         },
         {
          "model": "FUND",
          "temperature": 2.1439887504210655,
          "year": 2062
         },
         {
          "model": "FUND",
          "temperature": 2.181416614070919,
          "year": 2063
         },
         {
          "model": "FUND",
          "temperature": 2.21913221397785,
          "year": 2064
         },
         {
          "model": "FUND",
          "temperature": 2.2571301369234558,
          "year": 2065
         },
         {
          "model": "FUND",
          "temperature": 2.295410784639326,
          "year": 2066
         },
         {
          "model": "FUND",
          "temperature": 2.333974609889446,
          "year": 2067
         },
         {
          "model": "FUND",
          "temperature": 2.3728221039377786,
          "year": 2068
         },
         {
          "model": "FUND",
          "temperature": 2.4119534439946846,
          "year": 2069
         },
         {
          "model": "FUND",
          "temperature": 2.4513641166222166,
          "year": 2070
         },
         {
          "model": "FUND",
          "temperature": 2.4910461248856883,
          "year": 2071
         },
         {
          "model": "FUND",
          "temperature": 2.530992577171774,
          "year": 2072
         },
         {
          "model": "FUND",
          "temperature": 2.5712003973402844,
          "year": 2073
         },
         {
          "model": "FUND",
          "temperature": 2.611666575559193,
          "year": 2074
         },
         {
          "model": "FUND",
          "temperature": 2.6523871285688174,
          "year": 2075
         },
         {
          "model": "FUND",
          "temperature": 2.693361726909218,
          "year": 2076
         },
         {
          "model": "FUND",
          "temperature": 2.734583054594858,
          "year": 2077
         },
         {
          "model": "FUND",
          "temperature": 2.7760444216347344,
          "year": 2078
         },
         {
          "model": "FUND",
          "temperature": 2.8177388712980003,
          "year": 2079
         },
         {
          "model": "FUND",
          "temperature": 2.859669655316074,
          "year": 2080
         },
         {
          "model": "FUND",
          "temperature": 2.90187086482542,
          "year": 2081
         },
         {
          "model": "FUND",
          "temperature": 2.9443547312813787,
          "year": 2082
         },
         {
          "model": "FUND",
          "temperature": 2.987117080201035,
          "year": 2083
         },
         {
          "model": "FUND",
          "temperature": 3.0301532127814284,
          "year": 2084
         },
         {
          "model": "FUND",
          "temperature": 3.0734536183456282,
          "year": 2085
         },
         {
          "model": "FUND",
          "temperature": 3.1170171923486834,
          "year": 2086
         },
         {
          "model": "FUND",
          "temperature": 3.16083658705907,
          "year": 2087
         },
         {
          "model": "FUND",
          "temperature": 3.2049029419402553,
          "year": 2088
         },
         {
          "model": "FUND",
          "temperature": 3.2492091342294196,
          "year": 2089
         },
         {
          "model": "FUND",
          "temperature": 3.2937260566429556,
          "year": 2090
         },
         {
          "model": "FUND",
          "temperature": 3.338420578722644,
          "year": 2091
         },
         {
          "model": "FUND",
          "temperature": 3.3832712855991773,
          "year": 2092
         },
         {
          "model": "FUND",
          "temperature": 3.428272149113503,
          "year": 2093
         },
         {
          "model": "FUND",
          "temperature": 3.47341750508177,
          "year": 2094
         },
         {
          "model": "FUND",
          "temperature": 3.5186962807085322,
          "year": 2095
         },
         {
          "model": "FUND",
          "temperature": 3.5641085697997044,
          "year": 2096
         },
         {
          "model": "FUND",
          "temperature": 3.609646310715452,
          "year": 2097
         },
         {
          "model": "FUND",
          "temperature": 3.655301145587281,
          "year": 2098
         },
         {
          "model": "FUND",
          "temperature": 3.7010650300798686,
          "year": 2099
         },
         {
          "model": "FUND",
          "temperature": 3.7469098874027345,
          "year": 2100
         },
         {
          "model": "FUND",
          "temperature": 3.7928035779128133,
          "year": 2101
         },
         {
          "model": "FUND",
          "temperature": 3.838727916239025,
          "year": 2102
         },
         {
          "model": "FUND",
          "temperature": 3.8846773004049897,
          "year": 2103
         },
         {
          "model": "FUND",
          "temperature": 3.9306457224426574,
          "year": 2104
         },
         {
          "model": "FUND",
          "temperature": 3.976626655070105,
          "year": 2105
         },
         {
          "model": "FUND",
          "temperature": 4.022613225000141,
          "year": 2106
         },
         {
          "model": "FUND",
          "temperature": 4.06859716710797,
          "year": 2107
         },
         {
          "model": "FUND",
          "temperature": 4.114570493459141,
          "year": 2108
         },
         {
          "model": "FUND",
          "temperature": 4.160523777169647,
          "year": 2109
         },
         {
          "model": "FUND",
          "temperature": 4.206448658730107,
          "year": 2110
         },
         {
          "model": "FUND",
          "temperature": 4.25233525839509,
          "year": 2111
         },
         {
          "model": "FUND",
          "temperature": 4.298174444183933,
          "year": 2112
         },
         {
          "model": "FUND",
          "temperature": 4.343955997324282,
          "year": 2113
         },
         {
          "model": "FUND",
          "temperature": 4.389670151483329,
          "year": 2114
         },
         {
          "model": "FUND",
          "temperature": 4.435306818975203,
          "year": 2115
         },
         {
          "model": "FUND",
          "temperature": 4.480855995881325,
          "year": 2116
         },
         {
          "model": "FUND",
          "temperature": 4.5263069672926886,
          "year": 2117
         },
         {
          "model": "FUND",
          "temperature": 4.571649507378602,
          "year": 2118
         },
         {
          "model": "FUND",
          "temperature": 4.616872723697717,
          "year": 2119
         },
         {
          "model": "FUND",
          "temperature": 4.661965693834251,
          "year": 2120
         },
         {
          "model": "FUND",
          "temperature": 4.7069183703050905,
          "year": 2121
         },
         {
          "model": "FUND",
          "temperature": 4.751719846687394,
          "year": 2122
         },
         {
          "model": "FUND",
          "temperature": 4.796359824920216,
          "year": 2123
         },
         {
          "model": "FUND",
          "temperature": 4.840827297863936,
          "year": 2124
         },
         {
          "model": "FUND",
          "temperature": 4.88511165494147,
          "year": 2125
         },
         {
          "model": "FUND",
          "temperature": 4.929202113859846,
          "year": 2126
         },
         {
          "model": "FUND",
          "temperature": 4.973088338199881,
          "year": 2127
         },
         {
          "model": "FUND",
          "temperature": 5.016759929502105,
          "year": 2128
         },
         {
          "model": "FUND",
          "temperature": 5.060206489537359,
          "year": 2129
         },
         {
          "model": "FUND",
          "temperature": 5.103418064426247,
          "year": 2130
         },
         {
          "model": "FUND",
          "temperature": 5.146384356247687,
          "year": 2131
         },
         {
          "model": "FUND",
          "temperature": 5.189095236523305,
          "year": 2132
         },
         {
          "model": "FUND",
          "temperature": 5.231541102775193,
          "year": 2133
         },
         {
          "model": "FUND",
          "temperature": 5.273712049729827,
          "year": 2134
         },
         {
          "model": "FUND",
          "temperature": 5.315598802185477,
          "year": 2135
         },
         {
          "model": "FUND",
          "temperature": 5.357192512803146,
          "year": 2136
         },
         {
          "model": "FUND",
          "temperature": 5.398484042158963,
          "year": 2137
         },
         {
          "model": "FUND",
          "temperature": 5.439464444751493,
          "year": 2138
         },
         {
          "model": "FUND",
          "temperature": 5.480124595594422,
          "year": 2139
         },
         {
          "model": "FUND",
          "temperature": 5.520456311897376,
          "year": 2140
         },
         {
          "model": "FUND",
          "temperature": 5.560451941065838,
          "year": 2141
         },
         {
          "model": "FUND",
          "temperature": 5.600103241448274,
          "year": 2142
         },
         {
          "model": "FUND",
          "temperature": 5.639402729104261,
          "year": 2143
         },
         {
          "model": "FUND",
          "temperature": 5.678343253057694,
          "year": 2144
         },
         {
          "model": "FUND",
          "temperature": 5.716917362580153,
          "year": 2145
         },
         {
          "model": "FUND",
          "temperature": 5.755118879214934,
          "year": 2146
         },
         {
          "model": "FUND",
          "temperature": 5.792940076564213,
          "year": 2147
         },
         {
          "model": "FUND",
          "temperature": 5.830374841445317,
          "year": 2148
         },
         {
          "model": "FUND",
          "temperature": 5.867417514223313,
          "year": 2149
         },
         {
          "model": "FUND",
          "temperature": 5.904062708593876,
          "year": 2150
         },
         {
          "model": "FUND",
          "temperature": 5.940304412081585,
          "year": 2151
         },
         {
          "model": "FUND",
          "temperature": 5.97613727539784,
          "year": 2152
         },
         {
          "model": "FUND",
          "temperature": 6.011556569571168,
          "year": 2153
         },
         {
          "model": "FUND",
          "temperature": 6.046558012381597,
          "year": 2154
         },
         {
          "model": "FUND",
          "temperature": 6.081138042405617,
          "year": 2155
         },
         {
          "model": "FUND",
          "temperature": 6.115292731327325,
          "year": 2156
         },
         {
          "model": "FUND",
          "temperature": 6.149018980388554,
          "year": 2157
         },
         {
          "model": "FUND",
          "temperature": 6.182314210046208,
          "year": 2158
         },
         {
          "model": "FUND",
          "temperature": 6.215174829093779,
          "year": 2159
         },
         {
          "model": "FUND",
          "temperature": 6.247599257054738,
          "year": 2160
         },
         {
          "model": "FUND",
          "temperature": 6.279585401892452,
          "year": 2161
         },
         {
          "model": "FUND",
          "temperature": 6.3111314563461045,
          "year": 2162
         },
         {
          "model": "FUND",
          "temperature": 6.3422361538105045,
          "year": 2163
         },
         {
          "model": "FUND",
          "temperature": 6.372898472236284,
          "year": 2164
         },
         {
          "model": "FUND",
          "temperature": 6.403117253487319,
          "year": 2165
         },
         {
          "model": "FUND",
          "temperature": 6.432892157344088,
          "year": 2166
         },
         {
          "model": "FUND",
          "temperature": 6.46222255777562,
          "year": 2167
         },
         {
          "model": "FUND",
          "temperature": 6.491108532895891,
          "year": 2168
         },
         {
          "model": "FUND",
          "temperature": 6.519550174633916,
          "year": 2169
         },
         {
          "model": "FUND",
          "temperature": 6.547547818361907,
          "year": 2170
         },
         {
          "model": "FUND",
          "temperature": 6.575101403863795,
          "year": 2171
         },
         {
          "model": "FUND",
          "temperature": 6.602212739654217,
          "year": 2172
         },
         {
          "model": "FUND",
          "temperature": 6.628882704359136,
          "year": 2173
         },
         {
          "model": "FUND",
          "temperature": 6.655112736184142,
          "year": 2174
         },
         {
          "model": "FUND",
          "temperature": 6.68090392833348,
          "year": 2175
         },
         {
          "model": "FUND",
          "temperature": 6.706258150544199,
          "year": 2176
         },
         {
          "model": "FUND",
          "temperature": 6.731177233562627,
          "year": 2177
         },
         {
          "model": "FUND",
          "temperature": 6.755663182564879,
          "year": 2178
         },
         {
          "model": "FUND",
          "temperature": 6.779718422449215,
          "year": 2179
         },
         {
          "model": "FUND",
          "temperature": 6.803345417403866,
          "year": 2180
         },
         {
          "model": "FUND",
          "temperature": 6.826547114765055,
          "year": 2181
         },
         {
          "model": "FUND",
          "temperature": 6.849325956161861,
          "year": 2182
         },
         {
          "model": "FUND",
          "temperature": 6.871685270472842,
          "year": 2183
         },
         {
          "model": "FUND",
          "temperature": 6.893628006865318,
          "year": 2184
         },
         {
          "model": "FUND",
          "temperature": 6.915156738303896,
          "year": 2185
         },
         {
          "model": "FUND",
          "temperature": 6.936275175537805,
          "year": 2186
         },
         {
          "model": "FUND",
          "temperature": 6.956986493273043,
          "year": 2187
         },
         {
          "model": "FUND",
          "temperature": 6.977294521376057,
          "year": 2188
         },
         {
          "model": "FUND",
          "temperature": 6.997202975088083,
          "year": 2189
         },
         {
          "model": "FUND",
          "temperature": 7.016715678871821,
          "year": 2190
         },
         {
          "model": "FUND",
          "temperature": 7.035836872996458,
          "year": 2191
         },
         {
          "model": "FUND",
          "temperature": 7.054569723458843,
          "year": 2192
         },
         {
          "model": "FUND",
          "temperature": 7.072918709154498,
          "year": 2193
         },
         {
          "model": "FUND",
          "temperature": 7.09088783339452,
          "year": 2194
         },
         {
          "model": "FUND",
          "temperature": 7.108481715533686,
          "year": 2195
         },
         {
          "model": "FUND",
          "temperature": 7.125704395612666,
          "year": 2196
         },
         {
          "model": "FUND",
          "temperature": 7.142560415508435,
          "year": 2197
         },
         {
          "model": "FUND",
          "temperature": 7.15905375272802,
          "year": 2198
         },
         {
          "model": "FUND",
          "temperature": 7.175189301358065,
          "year": 2199
         },
         {
          "model": "FUND",
          "temperature": 7.190971762004987,
          "year": 2200
         },
         {
          "model": "FUND",
          "temperature": 7.206408624376984,
          "year": 2201
         },
         {
          "model": "FUND",
          "temperature": 7.221506816628437,
          "year": 2202
         },
         {
          "model": "FUND",
          "temperature": 7.236273757302533,
          "year": 2203
         },
         {
          "model": "FUND",
          "temperature": 7.250716482526928,
          "year": 2204
         },
         {
          "model": "FUND",
          "temperature": 7.264841970467174,
          "year": 2205
         },
         {
          "model": "FUND",
          "temperature": 7.278656540932946,
          "year": 2206
         },
         {
          "model": "FUND",
          "temperature": 7.292167531411467,
          "year": 2207
         },
         {
          "model": "FUND",
          "temperature": 7.305380568366607,
          "year": 2208
         },
         {
          "model": "FUND",
          "temperature": 7.318302225019525,
          "year": 2209
         },
         {
          "model": "FUND",
          "temperature": 7.330938512214868,
          "year": 2210
         },
         {
          "model": "FUND",
          "temperature": 7.3432953265074605,
          "year": 2211
         },
         {
          "model": "FUND",
          "temperature": 7.355379238135111,
          "year": 2212
         },
         {
          "model": "FUND",
          "temperature": 7.36719604729641,
          "year": 2213
         },
         {
          "model": "FUND",
          "temperature": 7.378751033961166,
          "year": 2214
         },
         {
          "model": "FUND",
          "temperature": 7.390049495640983,
          "year": 2215
         },
         {
          "model": "FUND",
          "temperature": 7.40109753115042,
          "year": 2216
         },
         {
          "model": "FUND",
          "temperature": 7.411900285604442,
          "year": 2217
         },
         {
          "model": "FUND",
          "temperature": 7.422462905635743,
          "year": 2218
         },
         {
          "model": "FUND",
          "temperature": 7.432790542454396,
          "year": 2219
         },
         {
          "model": "FUND",
          "temperature": 7.442887842559555,
          "year": 2220
         },
         {
          "model": "FUND",
          "temperature": 7.45276026152692,
          "year": 2221
         },
         {
          "model": "FUND",
          "temperature": 7.462412806900645,
          "year": 2222
         },
         {
          "model": "FUND",
          "temperature": 7.471849581883025,
          "year": 2223
         },
         {
          "model": "FUND",
          "temperature": 7.481075617653474,
          "year": 2224
         },
         {
          "model": "FUND",
          "temperature": 7.490095061506811,
          "year": 2225
         },
         {
          "model": "FUND",
          "temperature": 7.498912580003138,
          "year": 2226
         },
         {
          "model": "FUND",
          "temperature": 7.507532808397436,
          "year": 2227
         },
         {
          "model": "FUND",
          "temperature": 7.515959777179311,
          "year": 2228
         },
         {
          "model": "FUND",
          "temperature": 7.524197636191766,
          "year": 2229
         },
         {
          "model": "FUND",
          "temperature": 7.532250152026642,
          "year": 2230
         },
         {
          "model": "FUND",
          "temperature": 7.540121520416781,
          "year": 2231
         },
         {
          "model": "FUND",
          "temperature": 7.5478150575346845,
          "year": 2232
         },
         {
          "model": "FUND",
          "temperature": 7.555334629233222,
          "year": 2233
         },
         {
          "model": "FUND",
          "temperature": 7.562684581818985,
          "year": 2234
         },
         {
          "model": "FUND",
          "temperature": 7.569868554763106,
          "year": 2235
         },
         {
          "model": "FUND",
          "temperature": 7.5768901054233915,
          "year": 2236
         },
         {
          "model": "FUND",
          "temperature": 7.583752442559996,
          "year": 2237
         },
         {
          "model": "FUND",
          "temperature": 7.590458640733128,
          "year": 2238
         },
         {
          "model": "FUND",
          "temperature": 7.597012682496539,
          "year": 2239
         },
         {
          "model": "FUND",
          "temperature": 7.603417461746791,
          "year": 2240
         },
         {
          "model": "FUND",
          "temperature": 7.6096760296873995,
          "year": 2241
         },
         {
          "model": "FUND",
          "temperature": 7.6157914780750495,
          "year": 2242
         },
         {
          "model": "FUND",
          "temperature": 7.62176684207322,
          "year": 2243
         },
         {
          "model": "FUND",
          "temperature": 7.627605569171424,
          "year": 2244
         },
         {
          "model": "FUND",
          "temperature": 7.633310430220983,
          "year": 2245
         },
         {
          "model": "FUND",
          "temperature": 7.638884149669004,
          "year": 2246
         },
         {
          "model": "FUND",
          "temperature": 7.644329780872297,
          "year": 2247
         },
         {
          "model": "FUND",
          "temperature": 7.64965021436897,
          "year": 2248
         },
         {
          "model": "FUND",
          "temperature": 7.654849041400311,
          "year": 2249
         },
         {
          "model": "FUND",
          "temperature": 7.659928307808399,
          "year": 2250
         },
         {
          "model": "FUND",
          "temperature": 7.664890435496482,
          "year": 2251
         },
         {
          "model": "FUND",
          "temperature": 7.669737991754069,
          "year": 2252
         },
         {
          "model": "FUND",
          "temperature": 7.674473577790631,
          "year": 2253
         },
         {
          "model": "FUND",
          "temperature": 7.679099364605515,
          "year": 2254
         },
         {
          "model": "FUND",
          "temperature": 7.683617963182156,
          "year": 2255
         },
         {
          "model": "FUND",
          "temperature": 7.688031170582525,
          "year": 2256
         },
         {
          "model": "FUND",
          "temperature": 7.6923413412929715,
          "year": 2257
         },
         {
          "model": "FUND",
          "temperature": 7.69655159881741,
          "year": 2258
         },
         {
          "model": "FUND",
          "temperature": 7.7006637350257,
          "year": 2259
         },
         {
          "model": "FUND",
          "temperature": 7.704679723381423,
          "year": 2260
         },
         {
          "model": "FUND",
          "temperature": 7.708601882219818,
          "year": 2261
         },
         {
          "model": "FUND",
          "temperature": 7.712432100265355,
          "year": 2262
         },
         {
          "model": "FUND",
          "temperature": 7.716172792756886,
          "year": 2263
         },
         {
          "model": "FUND",
          "temperature": 7.719825741122546,
          "year": 2264
         },
         {
          "model": "FUND",
          "temperature": 7.723392521788144,
          "year": 2265
         },
         {
          "model": "FUND",
          "temperature": 7.726875162386723,
          "year": 2266
         },
         {
          "model": "FUND",
          "temperature": 7.730275728080363,
          "year": 2267
         },
         {
          "model": "FUND",
          "temperature": 7.7335954981122725,
          "year": 2268
         },
         {
          "model": "FUND",
          "temperature": 7.73683658387749,
          "year": 2269
         },
         {
          "model": "FUND",
          "temperature": 7.740000489335858,
          "year": 2270
         },
         {
          "model": "FUND",
          "temperature": 7.743089431291942,
          "year": 2271
         },
         {
          "model": "FUND",
          "temperature": 7.746105096176537,
          "year": 2272
         },
         {
          "model": "FUND",
          "temperature": 7.749049137790792,
          "year": 2273
         },
         {
          "model": "FUND",
          "temperature": 7.751923349880195,
          "year": 2274
         },
         {
          "model": "FUND",
          "temperature": 7.754728670892837,
          "year": 2275
         },
         {
          "model": "FUND",
          "temperature": 7.757467233812097,
          "year": 2276
         },
         {
          "model": "FUND",
          "temperature": 7.760140005922925,
          "year": 2277
         },
         {
          "model": "FUND",
          "temperature": 7.762748606008356,
          "year": 2278
         },
         {
          "model": "FUND",
          "temperature": 7.765294435300882,
          "year": 2279
         },
         {
          "model": "FUND",
          "temperature": 7.767779229746011,
          "year": 2280
         },
         {
          "model": "FUND",
          "temperature": 7.770204313392159,
          "year": 2281
         },
         {
          "model": "FUND",
          "temperature": 7.772571077253237,
          "year": 2282
         },
         {
          "model": "FUND",
          "temperature": 7.77488079621828,
          "year": 2283
         },
         {
          "model": "FUND",
          "temperature": 7.777134905627906,
          "year": 2284
         },
         {
          "model": "FUND",
          "temperature": 7.779334185637353,
          "year": 2285
         },
         {
          "model": "FUND",
          "temperature": 7.781480846300726,
          "year": 2286
         },
         {
          "model": "FUND",
          "temperature": 7.783575390604311,
          "year": 2287
         },
         {
          "model": "FUND",
          "temperature": 7.7856192481375555,
          "year": 2288
         },
         {
          "model": "FUND",
          "temperature": 7.787613460930341,
          "year": 2289
         },
         {
          "model": "FUND",
          "temperature": 7.789559331420212,
          "year": 2290
         },
         {
          "model": "FUND",
          "temperature": 7.791458303252158,
          "year": 2291
         },
         {
          "model": "FUND",
          "temperature": 7.793311329054896,
          "year": 2292
         },
         {
          "model": "FUND",
          "temperature": 7.795119008213035,
          "year": 2293
         },
         {
          "model": "FUND",
          "temperature": 7.796883184024116,
          "year": 2294
         },
         {
          "model": "FUND",
          "temperature": 7.798604728514279,
          "year": 2295
         },
         {
          "model": "FUND",
          "temperature": 7.800284338249128,
          "year": 2296
         },
         {
          "model": "FUND",
          "temperature": 7.801923070087477,
          "year": 2297
         },
         {
          "model": "FUND",
          "temperature": 7.803521439115258,
          "year": 2298
         },
         {
          "model": "FUND",
          "temperature": 7.8050806811422335,
          "year": 2299
         },
         {
          "model": "FUND",
          "temperature": 7.806601998850255,
          "year": 2300
         },
         {
          "model": "RICE",
          "temperature": 0.83,
          "year": 2005
         },
         {
          "model": "RICE",
          "temperature": 0.98,
          "year": 2015
         },
         {
          "model": "RICE",
          "temperature": 1.229907280364888,
          "year": 2025
         },
         {
          "model": "RICE",
          "temperature": 1.5203061790744936,
          "year": 2035
         },
         {
          "model": "RICE",
          "temperature": 1.8319126422158494,
          "year": 2045
         },
         {
          "model": "RICE",
          "temperature": 2.1509718132816524,
          "year": 2055
         },
         {
          "model": "RICE",
          "temperature": 2.4680617535638185,
          "year": 2065
         },
         {
          "model": "RICE",
          "temperature": 2.7778418001671974,
          "year": 2075
         },
         {
          "model": "RICE",
          "temperature": 3.0779677409816264,
          "year": 2085
         },
         {
          "model": "RICE",
          "temperature": 3.367812676156572,
          "year": 2095
         },
         {
          "model": "RICE",
          "temperature": 3.64764853306269,
          "year": 2105
         },
         {
          "model": "RICE",
          "temperature": 3.910615612939786,
          "year": 2115
         },
         {
          "model": "RICE",
          "temperature": 4.159814689862457,
          "year": 2125
         },
         {
          "model": "RICE",
          "temperature": 4.397436496644706,
          "year": 2135
         },
         {
          "model": "RICE",
          "temperature": 4.624874484385563,
          "year": 2145
         },
         {
          "model": "RICE",
          "temperature": 4.843087091436098,
          "year": 2155
         },
         {
          "model": "RICE",
          "temperature": 5.052771012125198,
          "year": 2165
         },
         {
          "model": "RICE",
          "temperature": 5.254444721491886,
          "year": 2175
         },
         {
          "model": "RICE",
          "temperature": 5.448486015626935,
          "year": 2185
         },
         {
          "model": "RICE",
          "temperature": 5.635142605191268,
          "year": 2195
         },
         {
          "model": "RICE",
          "temperature": 5.81470374674869,
          "year": 2205
         },
         {
          "model": "RICE",
          "temperature": 5.9875921126930844,
          "year": 2215
         },
         {
          "model": "RICE",
          "temperature": 6.154064905970658,
          "year": 2225
         },
         {
          "model": "RICE",
          "temperature": 6.3139419480150885,
          "year": 2235
         },
         {
          "model": "RICE",
          "temperature": 6.466548988802945,
          "year": 2245
         },
         {
          "model": "RICE",
          "temperature": 6.607839138618353,
          "year": 2255
         },
         {
          "model": "RICE",
          "temperature": 6.694146984890529,
          "year": 2265
         },
         {
          "model": "RICE",
          "temperature": 6.702930262911502,
          "year": 2275
         },
         {
          "model": "RICE",
          "temperature": 6.66539851072249,
          "year": 2285
         },
         {
          "model": "RICE",
          "temperature": 6.602160769418172,
          "year": 2295
         }
        ]
       },
       "encoding": {
        "color": {
         "field": "model",
         "type": "nominal"
        },
        "x": {
         "field": "year",
         "type": "quantitative"
        },
        "y": {
         "field": "temperature",
         "type": "quantitative"
        }
       },
       "mark": "line",
       "title": "Temperature above pre-industrial",
       "width": 400
      },
      "image/png": "[encoded data removed]",
      "image/svg+xml": [
       "<?xml version=\"1.0\" encoding=\"utf-8\"?>\n",
       "<!DOCTYPE svg PUBLIC \"-//W3C//DTD SVG 1.1//EN\" \"http://www.w3.org/Graphics/SVG/1.1/DTD/svg11.dtd\">\n",
       "<svg class=\"marks\" width=\"526\" height=\"269\" viewBox=\"0 0 526 269\" version=\"1.1\" xmlns=\"http://www.w3.org/2000/svg\" xmlns:xlink=\"http://www.w3.org/1999/xlink\"><g transform=\"translate(52,29)\"><g class=\"mark-group role-frame root\"><g transform=\"translate(0,0)\"><path class=\"background\" d=\"M0.5,0.5h400v200h-400Z\" style=\"fill: none; stroke: #ddd;\"></path><g><g class=\"mark-group role-axis\"><g transform=\"translate(0.5,200.5)\"><path class=\"background\" d=\"M0,0h0v0h0Z\" style=\"pointer-events: none; fill: none;\"></path><g><g class=\"mark-rule role-axis-grid\" style=\"pointer-events: none;\"><line transform=\"translate(0,-200)\" x2=\"0\" y2=\"200\" style=\"fill: none; stroke: #ddd; stroke-width: 1; opacity: 1;\"></line><line transform=\"translate(27,-200)\" x2=\"0\" y2=\"200\" style=\"fill: none; stroke: #ddd; stroke-width: 1; opacity: 1;\"></line><line transform=\"translate(53,-200)\" x2=\"0\" y2=\"200\" style=\"fill: none; stroke: #ddd; stroke-width: 1; opacity: 1;\"></line><line transform=\"translate(80,-200)\" x2=\"0\" y2=\"200\" style=\"fill: none; stroke: #ddd; stroke-width: 1; opacity: 1;\"></line><line transform=\"translate(107,-200)\" x2=\"0\" y2=\"200\" style=\"fill: none; stroke: #ddd; stroke-width: 1; opacity: 1;\"></line><line transform=\"translate(133,-200)\" x2=\"0\" y2=\"200\" style=\"fill: none; stroke: #ddd; stroke-width: 1; opacity: 1;\"></line><line transform=\"translate(160,-200)\" x2=\"0\" y2=\"200\" style=\"fill: none; stroke: #ddd; stroke-width: 1; opacity: 1;\"></line><line transform=\"translate(187,-200)\" x2=\"0\" y2=\"200\" style=\"fill: none; stroke: #ddd; stroke-width: 1; opacity: 1;\"></line><line transform=\"translate(213,-200)\" x2=\"0\" y2=\"200\" style=\"fill: none; stroke: #ddd; stroke-width: 1; opacity: 1;\"></line><line transform=\"translate(240,-200)\" x2=\"0\" y2=\"200\" style=\"fill: none; stroke: #ddd; stroke-width: 1; opacity: 1;\"></line><line transform=\"translate(267,-200)\" x2=\"0\" y2=\"200\" style=\"fill: none; stroke: #ddd; stroke-width: 1; opacity: 1;\"></line><line transform=\"translate(293,-200)\" x2=\"0\" y2=\"200\" style=\"fill: none; stroke: #ddd; stroke-width: 1; opacity: 1;\"></line><line transform=\"translate(320,-200)\" x2=\"0\" y2=\"200\" style=\"fill: none; stroke: #ddd; stroke-width: 1; opacity: 1;\"></line><line transform=\"translate(347,-200)\" x2=\"0\" y2=\"200\" style=\"fill: none; stroke: #ddd; stroke-width: 1; opacity: 1;\"></line><line transform=\"translate(373,-200)\" x2=\"0\" y2=\"200\" style=\"fill: none; stroke: #ddd; stroke-width: 1; opacity: 1;\"></line><line transform=\"translate(400,-200)\" x2=\"0\" y2=\"200\" style=\"fill: none; stroke: #ddd; stroke-width: 1; opacity: 1;\"></line></g></g></g></g><g class=\"mark-group role-axis\"><g transform=\"translate(0.5,0.5)\"><path class=\"background\" d=\"M0,0h0v0h0Z\" style=\"pointer-events: none; fill: none;\"></path><g><g class=\"mark-rule role-axis-grid\" style=\"pointer-events: none;\"><line transform=\"translate(0,200)\" x2=\"400\" y2=\"0\" style=\"fill: none; stroke: #ddd; stroke-width: 1; opacity: 1;\"></line><line transform=\"translate(0,150)\" x2=\"400\" y2=\"0\" style=\"fill: none; stroke: #ddd; stroke-width: 1; opacity: 1;\"></line><line transform=\"translate(0,100)\" x2=\"400\" y2=\"0\" style=\"fill: none; stroke: #ddd; stroke-width: 1; opacity: 1;\"></line><line transform=\"translate(0,50)\" x2=\"400\" y2=\"0\" style=\"fill: none; stroke: #ddd; stroke-width: 1; opacity: 1;\"></line><line transform=\"translate(0,0)\" x2=\"400\" y2=\"0\" style=\"fill: none; stroke: #ddd; stroke-width: 1; opacity: 1;\"></line></g></g></g></g><g class=\"mark-group role-scope pathgroup\"><g transform=\"translate(0,0)\"><path class=\"background\" d=\"M0,0h400v200h-400Z\" style=\"fill: none;\"></path><g><g class=\"mark-line role-mark marks\"><path d=\"M400,4.834950028743634L398.6666666666667,4.8729829714441735L397.3333333333333,4.911964022118553L396,4.951923247813085L394.6666666666667,4.992891543771805L393.3333333333333,5.034881787143007L392,5.077920399397101L390.6666666666667,5.122024794674132L389.33333333333337,5.167216773627587L388,5.213542418696051L386.6666666666667,5.261016714494701L385.33333333333337,5.309663476741463L384,5.359518796561105L382.6666666666667,5.410615234892248L381.33333333333337,5.462978842481846L380,5.51664535906616L378.6666666666667,5.57162735930234L377.33333333333337,5.627980094543005L376,5.685723068669091L374.6666666666667,5.744892165196035L373.3333333333333,5.805519256349726L372,5.86763911747795L370.66666666666663,5.931284849791098L369.3333333333333,5.99649985192687L368,6.063319154697581L366.66666666666663,6.13178322767908L365.3333333333333,6.201916252995119L364,6.273771555230184L362.66666666666663,6.347372595586563L361.3333333333333,6.422764217701456L360,6.499987766603539L358.66666666666663,6.579085403062749L357.3333333333333,6.660112547193194L356,6.743106797990919L354.6666666666667,6.828120940331928L353.3333333333333,6.915186955296406L352,7.004356471936347L350.6666666666667,7.095680181077853L349.3333333333333,7.189197493366123L348,7.284952944504539L346.6666666666667,7.383006915464421L345.3333333333333,7.483406624357485L344,7.586210029564739L342.6666666666667,7.691466467675724L341.33333333333337,7.799220735436876L340,7.909550920446094L338.6666666666667,8.022515884862145L337.33333333333337,8.138160555234208L336,8.25655020614829L334.6666666666667,8.377739112587932L333.33333333333337,8.50179230479003L332,8.628773964992206L330.6666666666667,8.758744640775745L329.33333333333337,8.891755478192579L328,9.027896258274893L326.6666666666667,9.167239244475411L325.3333333333333,9.309860770714408L324,9.455828948169511L322.66666666666663,9.605213048123773L321.3333333333333,9.758099257815019L320,9.914563456330228L318.66666666666663,10.074682937586545L317.3333333333333,10.238533981671793L316,10.406188936000092L314.66666666666663,10.577747364415217L313.3333333333333,10.753286130922334L312,10.932885454525376L310.66666666666663,11.116634269169452L309.3333333333333,11.304623561632894L308,11.496961989580484L306.6666666666667,11.69374619933393L305.3333333333333,11.895059095205852L304,12.10100557051723L302.6666666666667,12.31167979006409L301.3333333333333,12.527185499921558L300,12.747623462329727L298.6666666666667,12.973109558663168L297.3333333333333,13.20376045292437L296,13.439679827483872L294.6666666666667,13.680993461827L293.3333333333333,13.927803936011117L292,14.180236438640094L290.6666666666667,14.438427359106441L289.33333333333337,14.702492859888963L288,14.972561721239515L286.6666666666667,15.248762608975426L285.33333333333337,15.531224150970843L284,15.820098817589752L282.6666666666667,16.11551904662224L281.33333333333337,16.41761683731349L280,16.72653719462832L278.6666666666667,17.042444374511888L277.33333333333337,17.36548579083484L276,17.69581171471333L274.6666666666667,18.033586476676334L273.3333333333333,18.37895073832067L272,18.732087936826787L270.66666666666663,19.093156067436666L269.3333333333333,19.46232958428908L268,19.839784390575403L266.66666666666663,20.225705949875305L265.3333333333333,20.620267466048375L264,21.02365618179951L262.66666666666663,21.43598961228912L261.3333333333333,21.857390109683337L260,22.287957111657846L258.66666666666663,22.727804165137L257.3333333333333,23.177032271137534L256,23.635756913528922L254.66666666666669,24.104078175088546L253.33333333333331,24.582108028204487L252,25.06992562279794L250.66666666666669,25.56763696559858L249.33333333333331,26.075337668173916L248,26.593120611554866L246.66666666666669,27.121081542402607L245.33333333333331,27.659299828367068L244,28.207868238178946L242.66666666666669,28.766851095953484L241.33333333333334,29.33632213087364L240,29.916364564903347L238.66666666666669,30.507039438769624L237.33333333333334,31.10842043587803L236,31.720569160934332L234.66666666666666,32.343546236395014L233.33333333333334,32.977401791663L231.99999999999997,33.622181595396455L230.66666666666666,34.27793239102158L229.33333333333334,34.94468150864458L227.99999999999997,35.62246490340513L226.66666666666666,36.311304540952335L225.33333333333334,37.01124563415209L224.00000000000003,37.72228667760274L222.66666666666666,38.444436055609486L221.33333333333334,39.1776960663978L220.00000000000003,39.922068662817026L218.66666666666666,40.677538194092904L217.33333333333334,41.444096154737394L216,42.221713591347395L214.66666666666666,43.01036495268872L213.33333333333334,43.81001857363157L212,44.62062927265552L210.66666666666666,45.44214474884481L209.33333333333331,46.27452549028615L208,47.11768171681686L206.66666666666669,47.97154893985959L205.33333333333331,48.83604969046007L204,49.711085760720806L202.66666666666669,50.596568115054L201.33333333333331,51.49238969796036L200,52.39843228515312L198.66666666666666,53.31456214441715L197.33333333333334,54.24062896386707L196,55.17649808589468L194.66666666666669,56.12202801962664L193.33333333333334,57.077065935496165L192,58.041418673557644L190.66666666666669,59.01493177239348L189.33333333333334,59.997418963793166L188,60.98870147335404L186.66666666666666,61.9885922025656L185.33333333333331,62.99688511013946L184,64.01338888121268L182.66666666666666,65.0378989460259L181.33333333333331,66.07018717992133L180,67.11002994536307L178.66666666666666,68.15719875675433L177.33333333333334,69.21147243062018L176,70.27261908691739L174.66666666666666,71.34039109380782L173.33333333333334,72.41454838934382L172,73.49483776156602L170.66666666666669,74.58100176244737L169.33333333333334,75.67279154500297L168,76.76994715350385L166.66666666666669,77.87220862646325L165.33333333333334,78.9793175534016L164,80.09100437699459L162.66666666666666,81.20700383281513L161.33333333333331,82.32704074237273L160,83.45085765414373L158.66666666666666,84.57818190755708L157.33333333333331,85.70876231553495L156,86.84232581768279L154.66666666666666,87.97860010296688L153.33333333333334,89.11732952561992L152,90.25824621291679L150.66666666666666,91.40110006689295L149.33333333333334,92.54563889540168L148,93.69161854012276L146.66666666666666,94.83878353174732L145.33333333333334,95.98690557075882L144,97.13573766352148L142.66666666666669,98.28507082230075L141.33333333333334,99.43466937499647L140,100.58433362324737L138.66666666666669,101.73385693893357L137.33333333333334,102.88306748987526L136,104.03180209402437L134.66666666666666,105.17991055217966L133.33333333333331,106.32725281493164L132,107.47337424800328L130.66666666666666,108.61747136031798L129.33333333333331,109.7588422321137L128,110.89728575500739L126.66666666666666,112.0325929822867L125.33333333333334,113.16456237295574L124,114.29319627216242L122.66666666666666,115.41821786002056L121.33333333333334,116.53948553193389L120,117.6568485839261L118.66666666666667,118.76977164426451L117.33333333333333,119.87742645149362L115.99999999999999,120.97908532352325L114.66666666666667,122.07457019128292L113.33333333333333,123.1636595413593L112.00000000000001,124.24616968046429L110.66666666666667,125.32207299497412L109.33333333333333,126.39113171796554L108,127.4532283793645L106.66666666666667,128.50825861709814L105.33333333333333,129.55652821755L104,130.59888945913164L102.66666666666666,131.63542363512855L101.33333333333334,132.66595682726955L100,133.69032178577956L98.66666666666667,134.70833561102017L97.33333333333334,135.7199900664929L96,136.72518557070566L94.66666666666667,137.7238468778578L93.33333333333333,138.71589708444458L92,139.70116390013288L90.66666666666666,140.67944740155554L89.33333333333333,141.65063475276384L88,142.61473038401687L86.66666666666667,143.5717465769136L85.33333333333334,144.52169465055374L84,145.46458464822703L82.66666666666667,146.40028123947337L81.33333333333333,147.32870307613388L80,148.24977597686643L78.66666666666666,149.1632737876377L77.33333333333333,150.06889248277182L76,150.96636116587217L74.66666666666667,151.85562066152374L73.33333333333333,152.73657726317413L72,153.60912711232024L70.66666666666667,154.47323406957443L69.33333333333334,155.32894897145835L68,156.1763250776235L66.66666666666666,157.0154180741228L65.33333333333333,157.84570864884608L64,158.6660790873537L62.66666666666667,159.4757204666141L61.33333333333333,160.2744836711805L60,161.06220745846764L58.666666666666664,161.83869440709478L57.333333333333336,162.6038887828331L56.00000000000001,163.35768504029255L54.666666666666664,164.10002279354327L53.333333333333336,164.83081643495274L52,165.5497944114113L50.66666666666667,166.25650905672194L49.333333333333336,166.95056048221932L48,167.63183636491908L46.666666666666664,168.30023065014245L45.33333333333333,168.95562005365625L44,169.59798198749533L42.66666666666667,170.22711954080654L41.333333333333336,170.84291242800936L40,171.44524587533724L38.666666666666664,172.0347622493876L37.333333333333336,172.61295507705523L36,173.18043922784656L34.66666666666667,173.73715278740897L33.33333333333333,174.28302845692878L32,174.8180291078869L30.666666666666664,175.34217123326613L29.333333333333332,175.85546375874193L28.000000000000004,176.3579317782444L26.666666666666668,176.84959114261642L25.333333333333336,177.33096397137876L24,177.8029999934075L22.666666666666664,178.26623721296642L21.333333333333336,178.72078560016317L20,179.16675609285645L18.666666666666668,179.60427602332234L17.333333333333336,180.03347900001754L16,180.45460888556698L14.666666666666666,180.86787913617488L13.333333333333334,181.2735337373337L12,181.67033094762107L10.666666666666668,182.05528068561682L9.333333333333334,182.42664846185048L8,182.78432996331713L6.666666666666667,183.12826815231995L5.333333333333334,183.46029171951406L4,183.78453795407484L2.666666666666667,184.10341193846443L1.3333333333333335,184.41714198626624L0,184.72582314652686\" style=\"fill: none; stroke: #4c78a8; stroke-width: 2;\"></path></g></g></g><g transform=\"translate(0,0)\"><path class=\"background\" d=\"M0,0h400v200h-400Z\" style=\"fill: none;\"></path><g><g class=\"mark-line role-mark marks\"><path d=\"M393.3333333333333,34.94598076454568L380,33.36503723193775L366.66666666666663,32.42674342721244L353.3333333333333,32.64632537773679L340,34.80402153454119L326.6666666666667,38.33627527992638L313.3333333333333,42.15145129962278L300,46.14837735073357L286.6666666666667,50.31019718267288L273.3333333333333,54.63240633128274L260,59.12143487021831L246.66666666666669,63.78784960932663L233.33333333333334,68.63888196270284L220.00000000000003,73.68072469687006L206.66666666666669,78.92282271409753L193.33333333333334,84.37813789036093L180,90.06408758388235L166.66666666666669,96.00463275343859L153.33333333333334,102.23460967650536L140,108.80878667343275L126.66666666666666,115.8046830960857L113.33333333333333,123.05080647545934L100,130.55395499582005L86.66666666666667,138.29845616090455L73.33333333333333,146.2257046679587L60,154.20218394460377L46.666666666666664,161.99234552313766L33.33333333333333,169.2523179908778L20,175.5L6.666666666666667,179.25\" style=\"fill: none; stroke: #f58518; stroke-width: 2;\"></path></g></g></g></g><g class=\"mark-group role-legend\"><g transform=\"translate(420,0)\"><path class=\"background\" d=\"M0,0h49v45h-49Z\" style=\"pointer-events: none; fill: none;\"></path><g><g class=\"mark-group role-legend-entry\"><g transform=\"translate(0,16)\"><path class=\"background\" d=\"M0,0h0v0h0Z\" style=\"pointer-events: none; fill: none;\"></path><g><g class=\"mark-group role-scope\"><g transform=\"translate(0,0)\"><path class=\"background\" d=\"M0,0h49v12.5h-49Z\" style=\"pointer-events: none; fill: none; opacity: 1;\"></path><g><g class=\"mark-symbol role-legend-symbol\" style=\"pointer-events: none;\"><path transform=\"translate(6,6)\" d=\"M5,0A5,5,0,1,1,-5,0A5,5,0,1,1,5,0\" style=\"fill: none; stroke: #4c78a8; stroke-width: 1.5; opacity: 1;\"></path></g><g class=\"mark-text role-legend-label\" style=\"pointer-events: none;\"><text text-anchor=\"start\" transform=\"translate(16,9)\" style=\"font-family: sans-serif; font-size: 10px; fill: #000; opacity: 1;\">FUND</text></g></g></g><g transform=\"translate(0,16)\"><path class=\"background\" d=\"M0,0h49v12.5h-49Z\" style=\"pointer-events: none; fill: none; opacity: 1;\"></path><g><g class=\"mark-symbol role-legend-symbol\" style=\"pointer-events: none;\"><path transform=\"translate(6,6)\" d=\"M5,0A5,5,0,1,1,-5,0A5,5,0,1,1,5,0\" style=\"fill: none; stroke: #f58518; stroke-width: 1.5; opacity: 1;\"></path></g><g class=\"mark-text role-legend-label\" style=\"pointer-events: none;\"><text text-anchor=\"start\" transform=\"translate(16,9)\" style=\"font-family: sans-serif; font-size: 10px; fill: #000; opacity: 1;\">RICE</text></g></g></g></g></g></g></g><g class=\"mark-text role-legend-title\" style=\"pointer-events: none;\"><text text-anchor=\"start\" transform=\"translate(0,9)\" style=\"font-family: sans-serif; font-size: 11px; font-weight: bold; fill: #000; opacity: 1;\">model</text></g></g></g></g><g class=\"mark-text role-title\" style=\"pointer-events: none;\"><text text-anchor=\"middle\" transform=\"translate(211,-13)\" style=\"font-family: sans-serif; font-size: 13px; font-weight: bold; fill: #000; opacity: 1;\">Temperature above pre-industrial</text></g><g class=\"mark-group role-axis\"><g transform=\"translate(0.5,200.5)\"><path class=\"background\" d=\"M0,0h0v0h0Z\" style=\"pointer-events: none; fill: none;\"></path><g><g class=\"mark-rule role-axis-tick\" style=\"pointer-events: none;\"><line transform=\"translate(0,0)\" x2=\"0\" y2=\"5\" style=\"fill: none; stroke: #888; stroke-width: 1; opacity: 1;\"></line><line transform=\"translate(27,0)\" x2=\"0\" y2=\"5\" style=\"fill: none; stroke: #888; stroke-width: 1; opacity: 1;\"></line><line transform=\"translate(53,0)\" x2=\"0\" y2=\"5\" style=\"fill: none; stroke: #888; stroke-width: 1; opacity: 1;\"></line><line transform=\"translate(80,0)\" x2=\"0\" y2=\"5\" style=\"fill: none; stroke: #888; stroke-width: 1; opacity: 1;\"></line><line transform=\"translate(107,0)\" x2=\"0\" y2=\"5\" style=\"fill: none; stroke: #888; stroke-width: 1; opacity: 1;\"></line><line transform=\"translate(133,0)\" x2=\"0\" y2=\"5\" style=\"fill: none; stroke: #888; stroke-width: 1; opacity: 1;\"></line><line transform=\"translate(160,0)\" x2=\"0\" y2=\"5\" style=\"fill: none; stroke: #888; stroke-width: 1; opacity: 1;\"></line><line transform=\"translate(187,0)\" x2=\"0\" y2=\"5\" style=\"fill: none; stroke: #888; stroke-width: 1; opacity: 1;\"></line><line transform=\"translate(213,0)\" x2=\"0\" y2=\"5\" style=\"fill: none; stroke: #888; stroke-width: 1; opacity: 1;\"></line><line transform=\"translate(240,0)\" x2=\"0\" y2=\"5\" style=\"fill: none; stroke: #888; stroke-width: 1; opacity: 1;\"></line><line transform=\"translate(267,0)\" x2=\"0\" y2=\"5\" style=\"fill: none; stroke: #888; stroke-width: 1; opacity: 1;\"></line><line transform=\"translate(293,0)\" x2=\"0\" y2=\"5\" style=\"fill: none; stroke: #888; stroke-width: 1; opacity: 1;\"></line><line transform=\"translate(320,0)\" x2=\"0\" y2=\"5\" style=\"fill: none; stroke: #888; stroke-width: 1; opacity: 1;\"></line><line transform=\"translate(347,0)\" x2=\"0\" y2=\"5\" style=\"fill: none; stroke: #888; stroke-width: 1; opacity: 1;\"></line><line transform=\"translate(373,0)\" x2=\"0\" y2=\"5\" style=\"fill: none; stroke: #888; stroke-width: 1; opacity: 1;\"></line><line transform=\"translate(400,0)\" x2=\"0\" y2=\"5\" style=\"fill: none; stroke: #888; stroke-width: 1; opacity: 1;\"></line></g><g class=\"mark-text role-axis-label\" style=\"pointer-events: none;\"><text text-anchor=\"start\" transform=\"translate(0,15)\" style=\"font-family: sans-serif; font-size: 10px; fill: #000; opacity: 1;\">2,000</text><text text-anchor=\"middle\" transform=\"translate(26.666666666666668,15)\" style=\"font-family: sans-serif; font-size: 10px; fill: #000; opacity: 0;\">2,020</text><text text-anchor=\"middle\" transform=\"translate(53.333333333333336,15)\" style=\"font-family: sans-serif; font-size: 10px; fill: #000; opacity: 0;\">2,040</text><text text-anchor=\"middle\" transform=\"translate(80,15)\" style=\"font-family: sans-serif; font-size: 10px; fill: #000; opacity: 0;\">2,060</text><text text-anchor=\"middle\" transform=\"translate(106.66666666666667,15)\" style=\"font-family: sans-serif; font-size: 10px; fill: #000; opacity: 1;\">2,080</text><text text-anchor=\"middle\" transform=\"translate(133.33333333333331,15)\" style=\"font-family: sans-serif; font-size: 10px; fill: #000; opacity: 0;\">2,100</text><text text-anchor=\"middle\" transform=\"translate(160,15)\" style=\"font-family: sans-serif; font-size: 10px; fill: #000; opacity: 0;\">2,120</text><text text-anchor=\"middle\" transform=\"translate(186.66666666666666,15)\" style=\"font-family: sans-serif; font-size: 10px; fill: #000; opacity: 0;\">2,140</text><text text-anchor=\"middle\" transform=\"translate(213.33333333333334,15)\" style=\"font-family: sans-serif; font-size: 10px; fill: #000; opacity: 1;\">2,160</text><text text-anchor=\"middle\" transform=\"translate(240,15)\" style=\"font-family: sans-serif; font-size: 10px; fill: #000; opacity: 0;\">2,180</text><text text-anchor=\"middle\" transform=\"translate(266.66666666666663,15)\" style=\"font-family: sans-serif; font-size: 10px; fill: #000; opacity: 0;\">2,200</text><text text-anchor=\"middle\" transform=\"translate(293.3333333333333,15)\" style=\"font-family: sans-serif; font-size: 10px; fill: #000; opacity: 0;\">2,220</text><text text-anchor=\"middle\" transform=\"translate(320,15)\" style=\"font-family: sans-serif; font-size: 10px; fill: #000; opacity: 1;\">2,240</text><text text-anchor=\"middle\" transform=\"translate(346.6666666666667,15)\" style=\"font-family: sans-serif; font-size: 10px; fill: #000; opacity: 0;\">2,260</text><text text-anchor=\"middle\" transform=\"translate(373.3333333333333,15)\" style=\"font-family: sans-serif; font-size: 10px; fill: #000; opacity: 0;\">2,280</text><text text-anchor=\"end\" transform=\"translate(400,15)\" style=\"font-family: sans-serif; font-size: 10px; fill: #000; opacity: 0;\">2,300</text></g><g class=\"mark-rule role-axis-domain\" style=\"pointer-events: none;\"><line transform=\"translate(0,0)\" x2=\"400\" y2=\"0\" style=\"fill: none; stroke: #888; stroke-width: 1; opacity: 1;\"></line></g><g class=\"mark-text role-axis-title\" style=\"pointer-events: none;\"><text text-anchor=\"middle\" transform=\"translate(200,31)\" style=\"font-family: sans-serif; font-size: 11px; font-weight: bold; fill: #000; opacity: 1;\">year</text></g></g></g></g><g class=\"mark-group role-axis\"><g transform=\"translate(0.5,0.5)\"><path class=\"background\" d=\"M0,0h0v0h0Z\" style=\"pointer-events: none; fill: none;\"></path><g><g class=\"mark-rule role-axis-tick\" style=\"pointer-events: none;\"><line transform=\"translate(0,200)\" x2=\"-5\" y2=\"0\" style=\"fill: none; stroke: #888; stroke-width: 1; opacity: 1;\"></line><line transform=\"translate(0,150)\" x2=\"-5\" y2=\"0\" style=\"fill: none; stroke: #888; stroke-width: 1; opacity: 1;\"></line><line transform=\"translate(0,100)\" x2=\"-5\" y2=\"0\" style=\"fill: none; stroke: #888; stroke-width: 1; opacity: 1;\"></line><line transform=\"translate(0,50)\" x2=\"-5\" y2=\"0\" style=\"fill: none; stroke: #888; stroke-width: 1; opacity: 1;\"></line><line transform=\"translate(0,0)\" x2=\"-5\" y2=\"0\" style=\"fill: none; stroke: #888; stroke-width: 1; opacity: 1;\"></line></g><g class=\"mark-text role-axis-label\" style=\"pointer-events: none;\"><text text-anchor=\"end\" transform=\"translate(-7,203)\" style=\"font-family: sans-serif; font-size: 10px; fill: #000; opacity: 1;\">0</text><text text-anchor=\"end\" transform=\"translate(-7,153)\" style=\"font-family: sans-serif; font-size: 10px; fill: #000; opacity: 1;\">2</text><text text-anchor=\"end\" transform=\"translate(-7,103)\" style=\"font-family: sans-serif; font-size: 10px; fill: #000; opacity: 1;\">4</text><text text-anchor=\"end\" transform=\"translate(-7,53)\" style=\"font-family: sans-serif; font-size: 10px; fill: #000; opacity: 1;\">6</text><text text-anchor=\"end\" transform=\"translate(-7,3)\" style=\"font-family: sans-serif; font-size: 10px; fill: #000; opacity: 1;\">8</text></g><g class=\"mark-rule role-axis-domain\" style=\"pointer-events: none;\"><line transform=\"translate(0,200)\" x2=\"0\" y2=\"-200\" style=\"fill: none; stroke: #888; stroke-width: 1; opacity: 1;\"></line></g><g class=\"mark-text role-axis-title\" style=\"pointer-events: none;\"><text text-anchor=\"middle\" transform=\"translate(-34,100) rotate(-90) translate(0,-2)\" style=\"font-family: sans-serif; font-size: 11px; font-weight: bold; fill: #000; opacity: 1;\">temperature</text></g></g></g></g></g></g></g></g></svg>"
      ],
      "text/plain": [
       "VegaLite.VLSpec{:plot}"
      ]
     },
     "execution_count": 6,
     "metadata": {},
     "output_type": "execute_result"
    }
   ],
   "source": [
    "df |> @filter(2000 <= _.year <= 2300) |> @vlplot(:line, x=:year, y=:temperature, color=:model, width=400, width=400, title=\"Temperature above pre-industrial\")"
   ]
  }
 ],
 "metadata": {
  "kernelspec": {
   "display_name": "Julia 1.1.0",
   "language": "julia",
   "name": "julia-1.1"
  },
  "language_info": {
   "file_extension": ".jl",
   "mimetype": "application/julia",
   "name": "julia",
   "version": "1.1.0"
  }
 },
 "nbformat": 4,
 "nbformat_minor": 2
}
